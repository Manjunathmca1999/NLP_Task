{
  "cells": [
    {
      "cell_type": "markdown",
      "metadata": {
        "id": "RuSGAe_9YCv6"
      },
      "source": [
        "#### Keras Embedding Layer\n",
        "Keras offers an Embedding layer that can be used for neural networks on text data.\n",
        "\n",
        "\n",
        "\n",
        "It requires that the input data be integer encoded, so that each word is represented by a unique integer. This data preparation step can be performed using the Tokenizer API also provided with Keras.\n",
        "\n",
        "Embedding layer can be used:\n",
        "\n",
        "    * Alone to learn a word embedding that can be saved and used in another model later.\n",
        "    * As part of a deep learning model where the embedding is learned along with the model itself.\n",
        "    * To load a pre-trained word embedding model, a type of transfer learning.\n",
        "\n",
        "\n",
        "Keras __Embedding__ turns positive integers (indexes) into dense vectors of fixed size. eg. [[4], [20]] -> [[0.25, 0.1], [0.6, -0.2]]. This layer can only be used as the first layer in a model.\n",
        "\n",
        "\n",
        "The Embedding layer is defined as the first hidden layer of a network. \n",
        "\n",
        "Imp Arguments:\n",
        "\n",
        "    input_dim: int > 0. Size of the vocabulary, i.e. maximum integer index + 1. e.g. if your data is integer encoded to values between 0-10, then the size of the vocabulary would be 11 words.\n",
        "    output_dim: int >= 0. Dimension of the dense embedding. It defines the size of the output vectors from this layer for each word.\n",
        "    input_length: Length of input sequences. For example, if all of your input documents are comprised of 1000 words, this would be 1000."
      ]
    },
    {
      "cell_type": "code",
      "execution_count": 1,
      "metadata": {
        "id": "UCV_d34xYCv-"
      },
      "outputs": [],
      "source": [
        "import tensorflow as tf\n",
        "import numpy as np"
      ]
    },
    {
      "cell_type": "code",
      "execution_count": 2,
      "metadata": {
        "id": "Ph14WQFDYCv_"
      },
      "outputs": [],
      "source": [
        "from numpy import zeros\n",
        "from numpy import asarray\n",
        "\n",
        "from tensorflow.keras.preprocessing.text import Tokenizer\n",
        "\n",
        "from tensorflow.keras.preprocessing.sequence import pad_sequences\n",
        "\n",
        "from tensorflow.keras.models import Sequential\n",
        "\n",
        "from tensorflow.keras.layers import Dense\n",
        "from tensorflow.keras.layers import Flatten,Embedding\n"
      ]
    },
    {
      "cell_type": "code",
      "execution_count": 3,
      "metadata": {
        "id": "MYD-VuuwYCwA"
      },
      "outputs": [],
      "source": [
        "# fix random seed for reproducibility\n",
        "np.random.seed(123)\n",
        "tf.random.set_seed(123)"
      ]
    },
    {
      "cell_type": "markdown",
      "metadata": {
        "id": "M1Wp-9tcYCwA"
      },
      "source": [
        "###### Data:\n",
        "Have 10 text documents, each with a comment about a piece of work a student submitted. Each text document is classified as positive “1” or negative “0”. This is a simple sentiment analysis problem."
      ]
    },
    {
      "cell_type": "code",
      "execution_count": 4,
      "metadata": {
        "id": "ki-E7eHgYCwB"
      },
      "outputs": [],
      "source": [
        "# define documents\n",
        "docs = ['Well done!',\n",
        "        'Good work',\n",
        "        'Great effort',\n",
        "        'nice work',\n",
        "        'Excellent!',\n",
        "        'Weak',\n",
        "        'Poor effort!',\n",
        "        'not good',\n",
        "        'poor work',\n",
        "        'Could have done better.']\n",
        "\n",
        "# define class labels\n",
        "labels = [1,1,1,1,1,0,0,0,0,0]"
      ]
    },
    {
      "cell_type": "markdown",
      "metadata": {
        "id": "vVOGFcMaYCwB"
      },
      "source": [
        "Integer encode each document. This means that as input the Embedding layer will have sequences of integers. "
      ]
    },
    {
      "cell_type": "markdown",
      "metadata": {
        "id": "y9O2QeOXYCwC"
      },
      "source": [
        "__Tokenizer__\n",
        "\n",
        "    Class for vectorizing texts, or/and turning texts into sequences (=list of word indexes, where the word of rank i in the dataset (starting at 1) has index i).\n",
        "\n",
        "__fit_on_texts(texts)__\n",
        "\n",
        "    Arguments:  \n",
        "        texts: list of texts to train on.\n",
        "        \n",
        "* __fit_on_texts( )__ - Updates internal vocabulary based on a list of texts. This method creates the vocabulary index based on word frequency. \n",
        "        \n",
        "__word_index__ attribute: \n",
        "\n",
        "    Dictionary mapping words (str) to their rank/index (int). Only set after fit_on_texts was called.\n",
        "    \n",
        "* https://stackoverflow.com/questions/51956000/what-does-keras-tokenizer-method-exactly-do"
      ]
    },
    {
      "cell_type": "code",
      "execution_count": 10,
      "metadata": {
        "colab": {
          "base_uri": "https://localhost:8080/"
        },
        "id": "qGHpFIT6YCwD",
        "outputId": "701b2753-761f-4ba5-93f3-c4d47f87aad5"
      },
      "outputs": [
        {
          "output_type": "stream",
          "name": "stdout",
          "text": [
            "{'work': 1, 'done': 2, 'good': 3, 'effort': 4, 'poor': 5, 'well': 6, 'great': 7, 'nice': 8, 'excellent': 9, 'weak': 10, 'not': 11, 'could': 12, 'have': 13, 'better': 14}\n",
            "15\n"
          ]
        }
      ],
      "source": [
        "# Prepare tokenizer\n",
        "# https://www.tensorflow.org/api_docs/python/tf/keras/preprocessing/text/Tokenizer\n",
        "\n",
        "t = Tokenizer()\n",
        "\n",
        "t.fit_on_texts(docs)\n",
        "# print(t.word_counts)\n",
        "print(t.word_index)\n",
        "\n",
        "vocab_size = len(t.word_index) + 1\n",
        "print (vocab_size)"
      ]
    },
    {
      "cell_type": "markdown",
      "metadata": {
        "id": "_6FQoQMMYCwE"
      },
      "source": [
        "__texts_to_sequences(texts)__\n",
        "\n",
        "    Arguments:\n",
        "        texts: list of texts to turn to sequences.\n",
        "    Return: list of sequences (one per text input).\n",
        "\n",
        "* __texts_to_sequences( )__ - Transforms each text in texts to a sequence of integers. So it basically takes each word in the text and replaces it with its corresponding integer value from the word_index dictionary."
      ]
    },
    {
      "cell_type": "code",
      "execution_count": 11,
      "metadata": {
        "colab": {
          "base_uri": "https://localhost:8080/"
        },
        "id": "R1caiv0rYCwE",
        "outputId": "fb6b3f85-4e0d-4db2-ecc2-71de562feadb"
      },
      "outputs": [
        {
          "output_type": "stream",
          "name": "stdout",
          "text": [
            "['Well done!', 'Good work', 'Great effort', 'nice work', 'Excellent!', 'Weak', 'Poor effort!', 'not good', 'poor work', 'Could have done better.']\n",
            "[[6, 2], [3, 1], [7, 4], [8, 1], [9], [10], [5, 4], [11, 3], [5, 1], [12, 13, 2, 14]]\n"
          ]
        }
      ],
      "source": [
        "# integer encode the documents\n",
        "encoded_docs = t.texts_to_sequences(docs)\n",
        "print(docs)\n",
        "print(encoded_docs)"
      ]
    },
    {
      "cell_type": "markdown",
      "metadata": {
        "id": "H8sEb8fwYCwF"
      },
      "source": [
        "The sequences have different lengths and Keras prefers inputs to be vectorized and all inputs to have the same length. We will pad all input sequences to have the length of 4. Again, we can do this with a built in Keras's pad_sequences() function."
      ]
    },
    {
      "cell_type": "code",
      "execution_count": 12,
      "metadata": {
        "colab": {
          "base_uri": "https://localhost:8080/"
        },
        "id": "_Mss1NmPYCwF",
        "outputId": "44f209ac-6b25-46b2-cb61-386eef3877ae"
      },
      "outputs": [
        {
          "output_type": "stream",
          "name": "stdout",
          "text": [
            "[[ 6  2  0  0]\n",
            " [ 3  1  0  0]\n",
            " [ 7  4  0  0]\n",
            " [ 8  1  0  0]\n",
            " [ 9  0  0  0]\n",
            " [10  0  0  0]\n",
            " [ 5  4  0  0]\n",
            " [11  3  0  0]\n",
            " [ 5  1  0  0]\n",
            " [12 13  2 14]]\n"
          ]
        }
      ],
      "source": [
        "# pad documents to a max length of 4 words\n",
        "max_length = 4\n",
        "padded_docs = pad_sequences(encoded_docs, maxlen=max_length, padding='post')\n",
        "print(padded_docs)\n"
      ]
    },
    {
      "cell_type": "code",
      "execution_count": 13,
      "metadata": {
        "id": "J4l3PqwXYCwF"
      },
      "outputs": [],
      "source": [
        "labels=np.array(labels)"
      ]
    },
    {
      "cell_type": "code",
      "source": [
        "print(labels)"
      ],
      "metadata": {
        "colab": {
          "base_uri": "https://localhost:8080/"
        },
        "id": "FlDvumisqWTr",
        "outputId": "01ae234a-85bd-438a-c78d-76807c3b01c5"
      },
      "execution_count": 14,
      "outputs": [
        {
          "output_type": "stream",
          "name": "stdout",
          "text": [
            "[1 1 1 1 1 0 0 0 0 0]\n"
          ]
        }
      ]
    },
    {
      "cell_type": "markdown",
      "metadata": {
        "id": "fd-zoIcSYCwG"
      },
      "source": [
        "The Embedding has a vocabulary of 15 and an input length of 4. We will choose a small embedding space of 8 dimensions.\n",
        "\n",
        "The model is a simple binary classification model. \n",
        "\n",
        "Importantly, the output from the Embedding layer will be 4 vectors of 8 dimensions each, one for each word. We flatten this to a one 32-element vector to pass on to the Dense output layer."
      ]
    },
    {
      "cell_type": "code",
      "execution_count": 15,
      "metadata": {
        "id": "_GfKGgMjYCwG"
      },
      "outputs": [],
      "source": [
        "# define the model\n",
        "model = Sequential()\n",
        "model.add(Embedding(vocab_size, 8, input_length=max_length))\n",
        "model.add(Flatten())\n",
        "model.add(Dense(1, activation='sigmoid'))"
      ]
    },
    {
      "cell_type": "code",
      "execution_count": 16,
      "metadata": {
        "id": "IMFCvRbLYCwG"
      },
      "outputs": [],
      "source": [
        "# compile the model\n",
        "model.compile(optimizer='adam', loss='binary_crossentropy', metrics=['acc'])"
      ]
    },
    {
      "cell_type": "code",
      "execution_count": 17,
      "metadata": {
        "colab": {
          "base_uri": "https://localhost:8080/"
        },
        "id": "ZKdCWQSBYCwH",
        "outputId": "db48fd87-17c5-4e1a-cf1e-7a4e6a6c2e55"
      },
      "outputs": [
        {
          "output_type": "stream",
          "name": "stdout",
          "text": [
            "Model: \"sequential\"\n",
            "_________________________________________________________________\n",
            " Layer (type)                Output Shape              Param #   \n",
            "=================================================================\n",
            " embedding (Embedding)       (None, 4, 8)              120       \n",
            "                                                                 \n",
            " flatten (Flatten)           (None, 32)                0         \n",
            "                                                                 \n",
            " dense (Dense)               (None, 1)                 33        \n",
            "                                                                 \n",
            "=================================================================\n",
            "Total params: 153\n",
            "Trainable params: 153\n",
            "Non-trainable params: 0\n",
            "_________________________________________________________________\n",
            "None\n"
          ]
        }
      ],
      "source": [
        "# summarize the model\n",
        "print(model.summary())"
      ]
    },
    {
      "cell_type": "code",
      "source": [
        "embeddings = model.layers[0].get_weights()[0]"
      ],
      "metadata": {
        "id": "XyvrjuT4rvTr"
      },
      "execution_count": 18,
      "outputs": []
    },
    {
      "cell_type": "code",
      "source": [
        "embeddings"
      ],
      "metadata": {
        "colab": {
          "base_uri": "https://localhost:8080/"
        },
        "id": "HKaxw1d7sevQ",
        "outputId": "118e2d3b-b59e-4ab6-f4be-e755b48b4219"
      },
      "execution_count": 19,
      "outputs": [
        {
          "output_type": "execute_result",
          "data": {
            "text/plain": [
              "array([[-3.73846889e-02,  7.27512687e-03, -2.00686697e-02,\n",
              "         4.61835787e-03,  2.20515765e-02,  2.88953297e-02,\n",
              "        -1.92318801e-02, -1.82889774e-03],\n",
              "       [ 1.53775252e-02, -3.79007459e-02, -1.37082562e-02,\n",
              "        -2.55100019e-02, -2.73043867e-02,  2.01003626e-03,\n",
              "         3.68466265e-02, -2.13810559e-02],\n",
              "       [-8.15294683e-04,  1.74988396e-02, -5.98294660e-03,\n",
              "        -1.07008219e-03,  3.05635221e-02,  3.97428386e-02,\n",
              "         1.36615969e-02,  1.20054930e-04],\n",
              "       [-1.61092356e-03,  2.52256282e-02,  3.06485929e-02,\n",
              "        -9.68657434e-04, -8.23821872e-03,  4.19750698e-02,\n",
              "        -1.95727702e-02,  4.12120558e-02],\n",
              "       [ 1.48617961e-02, -1.51228905e-02,  1.58478655e-02,\n",
              "         3.37831415e-02,  3.04305442e-02, -1.41870491e-02,\n",
              "        -1.00730881e-02, -1.44804642e-03],\n",
              "       [-4.17529456e-02, -7.88740069e-03, -4.96819504e-02,\n",
              "         4.88086231e-02,  6.93566725e-03, -3.47149149e-02,\n",
              "         8.68083164e-03,  4.95600142e-02],\n",
              "       [-4.99248281e-02,  5.38706779e-03, -2.82434821e-02,\n",
              "        -4.14521694e-02,  2.05350034e-02,  8.14529508e-03,\n",
              "        -4.52499390e-02,  6.67800754e-03],\n",
              "       [-3.73555347e-03,  2.55221166e-02, -7.97390938e-04,\n",
              "        -1.59323812e-02,  3.76414768e-02, -3.68352905e-02,\n",
              "         1.70810856e-02,  2.46713050e-02],\n",
              "       [ 1.59634240e-02,  3.53474542e-03, -1.38340816e-02,\n",
              "         4.54132669e-02,  3.74595411e-02,  1.13742836e-02,\n",
              "         9.48905945e-05,  4.01855633e-03],\n",
              "       [-2.17728615e-02, -4.96674553e-02, -3.34239602e-02,\n",
              "         7.54372030e-03, -1.67850964e-02, -3.78339365e-03,\n",
              "         3.43035199e-02,  2.40279324e-02],\n",
              "       [ 2.84449197e-02,  4.12758924e-02, -3.59766968e-02,\n",
              "         3.29828262e-03,  2.11201347e-02,  2.09593438e-02,\n",
              "         3.04187052e-02,  1.36537291e-02],\n",
              "       [ 1.97747387e-02, -4.58305739e-02,  2.86179446e-02,\n",
              "         9.67669487e-03, -4.10770886e-02, -2.17715651e-03,\n",
              "         3.10718156e-02, -9.64919478e-03],\n",
              "       [ 3.94263379e-02, -4.09096852e-02,  1.52977593e-02,\n",
              "        -9.12551954e-03, -1.62853710e-02,  3.41033377e-02,\n",
              "         2.09313072e-02,  3.22674029e-02],\n",
              "       [ 6.24610111e-03,  2.39354856e-02, -4.62426208e-02,\n",
              "        -3.53406183e-02,  3.88574488e-02, -4.05268744e-03,\n",
              "        -4.61149216e-02,  9.33254883e-03],\n",
              "       [-3.63632068e-02,  2.90089734e-02,  4.35407199e-02,\n",
              "        -3.51608284e-02,  3.04072611e-02, -2.25334167e-02,\n",
              "        -4.56764810e-02,  4.08405103e-02]], dtype=float32)"
            ]
          },
          "metadata": {},
          "execution_count": 19
        }
      ]
    },
    {
      "cell_type": "code",
      "source": [
        "embeddings.shape"
      ],
      "metadata": {
        "colab": {
          "base_uri": "https://localhost:8080/"
        },
        "id": "q0_FzSARrUjk",
        "outputId": "2e9e9ed4-5c7f-4625-d6f3-668e7dc78dbb"
      },
      "execution_count": 22,
      "outputs": [
        {
          "output_type": "execute_result",
          "data": {
            "text/plain": [
              "(15, 8)"
            ]
          },
          "metadata": {},
          "execution_count": 22
        }
      ]
    },
    {
      "cell_type": "code",
      "execution_count": 20,
      "metadata": {
        "colab": {
          "base_uri": "https://localhost:8080/"
        },
        "id": "b5cPBwAvYCwH",
        "outputId": "c3f9121c-f9ed-44da-fe54-516f5d2438b0"
      },
      "outputs": [
        {
          "output_type": "execute_result",
          "data": {
            "text/plain": [
              "<keras.callbacks.History at 0x7fbfc83c9cd0>"
            ]
          },
          "metadata": {},
          "execution_count": 20
        }
      ],
      "source": [
        "# fit the model\n",
        "model.fit(padded_docs, labels, epochs=50,verbose=0)"
      ]
    },
    {
      "cell_type": "code",
      "execution_count": 21,
      "metadata": {
        "colab": {
          "base_uri": "https://localhost:8080/"
        },
        "id": "bT9_DvzEYCwH",
        "outputId": "9fe908f8-5484-4670-d9a6-0a069abd304d"
      },
      "outputs": [
        {
          "output_type": "stream",
          "name": "stdout",
          "text": [
            "Accuracy: 89.999998\n"
          ]
        }
      ],
      "source": [
        "# evaluate the model\n",
        "loss, accuracy = model.evaluate(padded_docs, labels,verbose=0)\n",
        "print('Accuracy: %f' % (accuracy*100))"
      ]
    },
    {
      "cell_type": "markdown",
      "metadata": {
        "id": "oGrL93otYCwI"
      },
      "source": [
        "You could save the learned weights from the Embedding layer to file for later use in other models.\n",
        "\n",
        "You could also use this model generally to classify other documents that have the same kind vocabulary seen in the test dataset.\n",
        "\n",
        "* https://stackoverflow.com/questions/51235118/how-to-get-word-vectors-from-keras-embedding-layer"
      ]
    },
    {
      "cell_type": "markdown",
      "metadata": {
        "id": "BRROrcnZYCwI"
      },
      "source": [
        "## Using Pre-Trained GloVe Embedding\n",
        "\n",
        "The Keras Embedding layer can also use a word embedding learned elsewhere.\n",
        "\n",
        "It is common in the field of Natural Language Processing to learn, save, and make freely available word embeddings.\n",
        "\n",
        "For example, the researchers behind GloVe method provide a suite of pre-trained word embeddings on their website released under a public domain license.\n",
        "\n",
        "The smallest package of embeddings is 822Mb, called “glove.6B.zip“. It was trained on a dataset of one billion tokens (words) with a vocabulary of 400 thousand words. There are a few different embedding vector sizes, including 50, 100, 200 and 300 dimensions.\n",
        "\n",
        "You can download this collection of embeddings from https://nlp.stanford.edu/projects/glove/ and we can seed the Keras Embedding layer with weights from the pre-trained embedding for the words in your training dataset.\n",
        "\n",
        "After downloading and unzipping, you will see a few files, one of which is “glove.6B.100d.txt“, which contains a 100-dimensional version of the embedding.\n",
        "\n",
        "\n",
        "If you peek inside the file, you will see a token (word) followed by the weights (100 numbers) on each line. "
      ]
    },
    {
      "cell_type": "markdown",
      "metadata": {
        "id": "iHTjgfGiYCwI"
      },
      "source": [
        "###### load the GloVe word embedding file into memory as a dictionary of word to embedding array.\n",
        "\n",
        "__Note__: Filter the embedding for the unique words in the training data.\n"
      ]
    },
    {
      "cell_type": "code",
      "source": [
        "#### mount google drive\n",
        "from google.colab import drive\n",
        "drive.mount('/content/drive')"
      ],
      "metadata": {
        "colab": {
          "base_uri": "https://localhost:8080/"
        },
        "id": "A2sTLGBN2ZHV",
        "outputId": "754c7df5-6e95-4f70-ebf0-26b0e3e7e507"
      },
      "execution_count": 25,
      "outputs": [
        {
          "output_type": "stream",
          "name": "stdout",
          "text": [
            "Mounted at /content/drive\n"
          ]
        }
      ]
    },
    {
      "cell_type": "code",
      "execution_count": 26,
      "metadata": {
        "colab": {
          "base_uri": "https://localhost:8080/"
        },
        "id": "DDxw6zOwYCwJ",
        "outputId": "6c19aca0-3058-4bc8-c5ce-96ce350ccabb"
      },
      "outputs": [
        {
          "output_type": "stream",
          "name": "stdout",
          "text": [
            "Loaded 400000 word vectors.\n"
          ]
        }
      ],
      "source": [
        "# load the whole embedding into memory\n",
        "embeddings_index = dict()\n",
        "\n",
        "f = open('/content/drive/MyDrive/NLP/Deep_Learning/PGP/WordEmbeddings/glove.6B.50d.txt')\n",
        "\n",
        "for line in f:\n",
        "    values = line.split()\n",
        "    word = values[0]\n",
        "    coefs = asarray(values[1:], dtype='float32')\n",
        "    embeddings_index[word] = coefs\n",
        "f.close()\n",
        "print('Loaded %s word vectors.' % len(embeddings_index))"
      ]
    },
    {
      "cell_type": "markdown",
      "metadata": {
        "id": "0bNG6kKHYCwJ"
      },
      "source": [
        "Next, create a matrix of one embedding for each word in the training dataset. We can do that by enumerating all unique words in the Tokenizer.word_index and locating the embedding weight vector from the loaded GloVe embedding.\n",
        "\n",
        "The result is a matrix of weights only for words we will see during training."
      ]
    },
    {
      "cell_type": "code",
      "execution_count": 27,
      "metadata": {
        "id": "k5vQc8REYCwJ"
      },
      "outputs": [],
      "source": [
        "# Example to create a zero matrix\n",
        "embedding_matrix_1 = zeros((vocab_size, 5))"
      ]
    },
    {
      "cell_type": "code",
      "execution_count": 28,
      "metadata": {
        "colab": {
          "base_uri": "https://localhost:8080/"
        },
        "id": "8EGhNhrIYCwK",
        "outputId": "2335b6fe-e6a5-4856-b8ea-559cf2d6a6d4"
      },
      "outputs": [
        {
          "output_type": "execute_result",
          "data": {
            "text/plain": [
              "array([[0., 0., 0., 0., 0.],\n",
              "       [0., 0., 0., 0., 0.],\n",
              "       [0., 0., 0., 0., 0.],\n",
              "       [0., 0., 0., 0., 0.],\n",
              "       [0., 0., 0., 0., 0.],\n",
              "       [0., 0., 0., 0., 0.],\n",
              "       [0., 0., 0., 0., 0.],\n",
              "       [0., 0., 0., 0., 0.],\n",
              "       [0., 0., 0., 0., 0.],\n",
              "       [0., 0., 0., 0., 0.],\n",
              "       [0., 0., 0., 0., 0.],\n",
              "       [0., 0., 0., 0., 0.],\n",
              "       [0., 0., 0., 0., 0.],\n",
              "       [0., 0., 0., 0., 0.],\n",
              "       [0., 0., 0., 0., 0.]])"
            ]
          },
          "metadata": {},
          "execution_count": 28
        }
      ],
      "source": [
        "embedding_matrix_1"
      ]
    },
    {
      "cell_type": "code",
      "execution_count": 29,
      "metadata": {
        "colab": {
          "base_uri": "https://localhost:8080/"
        },
        "id": "Y8-wBNfFYCwK",
        "outputId": "504cc697-f786-4f3a-f609-41414d1a9cf2"
      },
      "outputs": [
        {
          "output_type": "execute_result",
          "data": {
            "text/plain": [
              "dict_items([('work', 1), ('done', 2), ('good', 3), ('effort', 4), ('poor', 5), ('well', 6), ('great', 7), ('nice', 8), ('excellent', 9), ('weak', 10), ('not', 11), ('could', 12), ('have', 13), ('better', 14)])"
            ]
          },
          "metadata": {},
          "execution_count": 29
        }
      ],
      "source": [
        "t.word_index.items()"
      ]
    },
    {
      "cell_type": "code",
      "execution_count": 30,
      "metadata": {
        "id": "nSgUxD3EYCwK",
        "outputId": "b97bfa47-7ebd-4d78-c7dc-eb68226b6f6f",
        "colab": {
          "base_uri": "https://localhost:8080/"
        }
      },
      "outputs": [
        {
          "output_type": "execute_result",
          "data": {
            "text/plain": [
              "array([-0.26241 , -1.1103  ,  0.50271 , -0.43052 ,  0.37468 , -0.3055  ,\n",
              "        0.36708 ,  0.25938 , -0.16993 ,  0.54245 ,  0.63919 ,  0.11347 ,\n",
              "       -0.3919  ,  0.31521 , -0.42901 ,  0.49977 , -0.2376  , -0.79307 ,\n",
              "        0.34494 , -0.47877 , -0.51945 , -0.50665 ,  0.057701, -0.31797 ,\n",
              "       -0.080134, -1.0289  , -0.1507  ,  0.50944 ,  0.60715 ,  1.3049  ,\n",
              "        3.2575  ,  0.11849 ,  1.5057  , -0.36649 , -0.17726 , -0.20931 ,\n",
              "       -0.59527 , -0.025889, -0.2965  , -1.1387  , -0.52999 ,  0.067286,\n",
              "        0.094954,  0.049722,  0.51323 , -0.11194 , -0.007111,  0.23775 ,\n",
              "        0.68874 ,  0.13873 ], dtype=float32)"
            ]
          },
          "metadata": {},
          "execution_count": 30
        }
      ],
      "source": [
        "embeddings_index.get('weak')"
      ]
    },
    {
      "cell_type": "code",
      "execution_count": 31,
      "metadata": {
        "colab": {
          "base_uri": "https://localhost:8080/"
        },
        "id": "HjHnVLJcYCwK",
        "outputId": "760fea9f-cf0f-499f-c88a-6a00a7becf54"
      },
      "outputs": [
        {
          "output_type": "stream",
          "name": "stdout",
          "text": [
            "work\n",
            "1\n",
            "done\n",
            "2\n",
            "good\n",
            "3\n",
            "effort\n",
            "4\n",
            "poor\n",
            "5\n",
            "well\n",
            "6\n",
            "great\n",
            "7\n",
            "nice\n",
            "8\n",
            "excellent\n",
            "9\n",
            "weak\n",
            "10\n",
            "not\n",
            "11\n",
            "could\n",
            "12\n",
            "have\n",
            "13\n",
            "better\n",
            "14\n"
          ]
        }
      ],
      "source": [
        "# create a weight matrix for words in training docs\n",
        "embedding_matrix = zeros((vocab_size, 50))\n",
        "\n",
        "for word, i in t.word_index.items():\n",
        "    print(word)\n",
        "    print(i)\n",
        "    embedding_vector = embeddings_index.get(word)\n",
        "    if embedding_vector is not None:\n",
        "        embedding_matrix[i] = embedding_vector"
      ]
    },
    {
      "cell_type": "code",
      "execution_count": 33,
      "metadata": {
        "colab": {
          "base_uri": "https://localhost:8080/"
        },
        "id": "By6hPBDMYCwL",
        "outputId": "07bced95-e3a4-40be-bf4b-816312e3d2e9"
      },
      "outputs": [
        {
          "output_type": "stream",
          "name": "stdout",
          "text": [
            "[ 5.13589978e-01  1.96950004e-01 -5.19439995e-01 -8.62179995e-01\n",
            "  1.54940002e-02  1.09729998e-01 -8.02929997e-01 -3.33609998e-01\n",
            " -1.61189993e-04  1.01889996e-02  4.67340015e-02  4.67510015e-01\n",
            " -4.74750012e-01  1.10380001e-01  3.93269986e-01 -4.36520010e-01\n",
            "  3.99839997e-01  2.71090001e-01  4.26499993e-01 -6.06400013e-01\n",
            "  8.11450005e-01  4.56299990e-01 -1.27260000e-01 -2.24739999e-01\n",
            "  6.40709996e-01 -1.27670002e+00 -7.22310007e-01 -6.95900023e-01\n",
            "  2.80450005e-02 -2.30719998e-01  3.79959989e+00 -1.26249999e-01\n",
            " -4.79669988e-01 -9.99719977e-01 -2.19760001e-01  5.05649984e-01\n",
            "  2.59530004e-02  8.05140018e-01  1.99290007e-01  2.87959993e-01\n",
            " -1.59150004e-01 -3.04380000e-01  1.60249993e-01 -1.82899997e-01\n",
            " -3.85629982e-02 -1.76190004e-01  2.70409994e-02  4.68420014e-02\n",
            " -6.28970027e-01  3.57259989e-01]\n"
          ]
        }
      ],
      "source": [
        "print(embedding_matrix[1])"
      ]
    },
    {
      "cell_type": "code",
      "source": [
        "embeddings_index.get('work')"
      ],
      "metadata": {
        "colab": {
          "base_uri": "https://localhost:8080/"
        },
        "id": "FNvOKLJqy_v_",
        "outputId": "03ac72f4-320d-4c62-da1e-4d505ccd0484"
      },
      "execution_count": 32,
      "outputs": [
        {
          "output_type": "execute_result",
          "data": {
            "text/plain": [
              "array([ 5.1359e-01,  1.9695e-01, -5.1944e-01, -8.6218e-01,  1.5494e-02,\n",
              "        1.0973e-01, -8.0293e-01, -3.3361e-01, -1.6119e-04,  1.0189e-02,\n",
              "        4.6734e-02,  4.6751e-01, -4.7475e-01,  1.1038e-01,  3.9327e-01,\n",
              "       -4.3652e-01,  3.9984e-01,  2.7109e-01,  4.2650e-01, -6.0640e-01,\n",
              "        8.1145e-01,  4.5630e-01, -1.2726e-01, -2.2474e-01,  6.4071e-01,\n",
              "       -1.2767e+00, -7.2231e-01, -6.9590e-01,  2.8045e-02, -2.3072e-01,\n",
              "        3.7996e+00, -1.2625e-01, -4.7967e-01, -9.9972e-01, -2.1976e-01,\n",
              "        5.0565e-01,  2.5953e-02,  8.0514e-01,  1.9929e-01,  2.8796e-01,\n",
              "       -1.5915e-01, -3.0438e-01,  1.6025e-01, -1.8290e-01, -3.8563e-02,\n",
              "       -1.7619e-01,  2.7041e-02,  4.6842e-02, -6.2897e-01,  3.5726e-01],\n",
              "      dtype=float32)"
            ]
          },
          "metadata": {},
          "execution_count": 32
        }
      ]
    },
    {
      "cell_type": "markdown",
      "metadata": {
        "id": "5qFg-HJpYCwL"
      },
      "source": [
        "Define our model, fit, and evaluate it as before.\n",
        "\n",
        "The key difference is that the embedding layer can be seeded with the GloVe word embedding weights. \n",
        "\n",
        "    We chose the 50-dimensional version, therefore the Embedding layer must be defined with output_dim set to 50. \n",
        "    We do not want to update the learned word weights in this model, therefore we will set the trainable attribute for the model to be False."
      ]
    },
    {
      "cell_type": "code",
      "execution_count": 34,
      "metadata": {
        "id": "tj3QmKsjYCwL"
      },
      "outputs": [],
      "source": [
        "# define model\n",
        "model = Sequential()\n",
        "model.add(Embedding(vocab_size, 50, weights=[embedding_matrix], input_length=4, trainable=False))\n",
        "model.add(Flatten())\n",
        "model.add(Dense(1, activation='sigmoid'))"
      ]
    },
    {
      "cell_type": "code",
      "execution_count": 35,
      "metadata": {
        "id": "of68--HRYCwL"
      },
      "outputs": [],
      "source": [
        "# compile the model\n",
        "model.compile(optimizer='adam', loss='binary_crossentropy', metrics=['acc'])"
      ]
    },
    {
      "cell_type": "code",
      "execution_count": 36,
      "metadata": {
        "colab": {
          "base_uri": "https://localhost:8080/"
        },
        "id": "CELGTfchYCwL",
        "outputId": "5ad7c9cb-aea7-4785-caab-58243fda727d"
      },
      "outputs": [
        {
          "output_type": "stream",
          "name": "stdout",
          "text": [
            "Model: \"sequential_1\"\n",
            "_________________________________________________________________\n",
            " Layer (type)                Output Shape              Param #   \n",
            "=================================================================\n",
            " embedding_1 (Embedding)     (None, 4, 50)             750       \n",
            "                                                                 \n",
            " flatten_1 (Flatten)         (None, 200)               0         \n",
            "                                                                 \n",
            " dense_1 (Dense)             (None, 1)                 201       \n",
            "                                                                 \n",
            "=================================================================\n",
            "Total params: 951\n",
            "Trainable params: 201\n",
            "Non-trainable params: 750\n",
            "_________________________________________________________________\n",
            "None\n"
          ]
        }
      ],
      "source": [
        "# summarize the model\n",
        "print(model.summary())"
      ]
    },
    {
      "cell_type": "code",
      "execution_count": 37,
      "metadata": {
        "colab": {
          "base_uri": "https://localhost:8080/"
        },
        "id": "9Yw51AgSYCwM",
        "outputId": "e11d8d10-d0d2-4738-98cd-9764b25f0322"
      },
      "outputs": [
        {
          "output_type": "execute_result",
          "data": {
            "text/plain": [
              "<keras.callbacks.History at 0x7fbf39a3b5d0>"
            ]
          },
          "metadata": {},
          "execution_count": 37
        }
      ],
      "source": [
        "# fit the model\n",
        "model.fit(padded_docs, labels, epochs=500, verbose=0)"
      ]
    },
    {
      "cell_type": "code",
      "execution_count": 38,
      "metadata": {
        "colab": {
          "base_uri": "https://localhost:8080/"
        },
        "id": "BZP-lOVqYCwM",
        "outputId": "876d9045-bca5-47e6-a2f4-992235d359ef"
      },
      "outputs": [
        {
          "output_type": "stream",
          "name": "stdout",
          "text": [
            "Accuracy: 100.000000\n"
          ]
        }
      ],
      "source": [
        "# evaluate the model\n",
        "loss, accuracy = model.evaluate(padded_docs, labels, verbose=0)\n",
        "\n",
        "print('Accuracy: %f' % (accuracy*100))"
      ]
    },
    {
      "cell_type": "code",
      "execution_count": 39,
      "metadata": {
        "id": "6priQt5_YCwM",
        "colab": {
          "base_uri": "https://localhost:8080/"
        },
        "outputId": "6718f6a9-4d24-4a8d-f912-916b32928207"
      },
      "outputs": [
        {
          "output_type": "stream",
          "name": "stdout",
          "text": [
            "1/1 [==============================] - 0s 81ms/step\n"
          ]
        }
      ],
      "source": [
        "predict_label=model.predict(padded_docs)"
      ]
    },
    {
      "cell_type": "code",
      "source": [
        "predict_label = np.round(predict_label).astype(int)"
      ],
      "metadata": {
        "id": "6MLcLmfB6GIW"
      },
      "execution_count": 40,
      "outputs": []
    },
    {
      "cell_type": "code",
      "source": [
        "predict_label\n"
      ],
      "metadata": {
        "colab": {
          "base_uri": "https://localhost:8080/"
        },
        "id": "BjDy_QE9675H",
        "outputId": "5459e983-f637-4508-f4ca-8e73fc328078"
      },
      "execution_count": 41,
      "outputs": [
        {
          "output_type": "execute_result",
          "data": {
            "text/plain": [
              "array([[1],\n",
              "       [1],\n",
              "       [1],\n",
              "       [1],\n",
              "       [1],\n",
              "       [0],\n",
              "       [0],\n",
              "       [0],\n",
              "       [0],\n",
              "       [0]])"
            ]
          },
          "metadata": {},
          "execution_count": 41
        }
      ]
    },
    {
      "cell_type": "markdown",
      "metadata": {
        "id": "5etQMXOPYCwN"
      },
      "source": [
        "__References:__\n",
        "\n",
        "    https://keras.io\n",
        "    https://www.tensorflow.org/api_docs/python/tf/keras/preprocessing/text/Tokenizer\n",
        "\n",
        "    https://machinelearningmastery.com\n",
        "    \n",
        "    https://blog.keras.io/using-pre-trained-word-embeddings-in-a-keras-model.html    "
      ]
    }
  ],
  "metadata": {
    "kernelspec": {
      "display_name": "Python 3",
      "language": "python",
      "name": "python3"
    },
    "language_info": {
      "codemirror_mode": {
        "name": "ipython",
        "version": 3
      },
      "file_extension": ".py",
      "mimetype": "text/x-python",
      "name": "python",
      "nbconvert_exporter": "python",
      "pygments_lexer": "ipython3",
      "version": "3.7.6"
    },
    "colab": {
      "provenance": [],
      "collapsed_sections": []
    },
    "accelerator": "GPU",
    "gpuClass": "standard"
  },
  "nbformat": 4,
  "nbformat_minor": 0
}